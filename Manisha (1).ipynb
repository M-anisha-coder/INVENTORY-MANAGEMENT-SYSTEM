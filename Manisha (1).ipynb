{
  "nbformat": 4,
  "nbformat_minor": 0,
  "metadata": {
    "colab": {
      "name": "Manisha.ipynb",
      "provenance": [],
      "collapsed_sections": []
    },
    "kernelspec": {
      "display_name": "Python 3",
      "name": "python3"
    },
    "language_info": {
      "name": "python"
    }
  },
  "cells": [
    {
      "cell_type": "code",
      "metadata": {
        "id": "-0cSg-wVIRTD"
      },
      "source": [
        "  product_record= { 1124551:{\"name\":\"maggi\"        ,\"price\":30,  \"quantity available \":100,   \"quantity of product\":100,         \"expiry \":\"12 months\"},\n",
        "                    1124552:{\"name\":\"chocolate\"    ,\"price\":40,  \"quantity available \":100,   \"quantity of product\":20,          \"expiry \":\"15 months\"} ,\n",
        "                    1124553:{\"name\":\"cookies\"      ,\"price\":30,  \"quantity available \":100,   \"quantity of product\":100,         \"expiry \":\"12 months\"},\n",
        "                    1124554:{\"name\":\"pack of pasta\",\"price\":50,  \"quantity available \":100,   \"quantity of product\":100,         \"expiry \":\"24 months\"},\n",
        "                    1124555:{\"name\":\"rice pack\",    \"price\":300, \"quantity available \":100,   \"quantity of product\":5000,          \"expiry \":\"48 months\"},\n",
        "                    1124556:{\"name\":\"almonds pack \",\"price\":500, \"quantity available \":100,   \"quantity of product\":300,         \"expiry \":\"12 months\"},\n",
        "                    1124557:{\"name\":\"dates pack\"   ,\"price\":500, \"quantity available \":100,   \"quantity of product\":500         ,\"expiry \":\"24 months\"},\n",
        "                    1124558:{\"name\":\"donuts pack\"  ,\"price\":150, \"quantity available \":100,   \"quantity of product\":200,         \"expiry \":\" 3 days\"},\n",
        "                    1124559:{\"name\":\"cakes pack\",   \"price\":300, \"quantity available \":100,   \"quantity of product\":1000,          \"expiry \":\"1 days\"},\n",
        "                    1124560:{\"name\":\"balloon pack\" , \"price\":50,  \"quantity available \":100,   \"quantity of product\":25 ,   \"expiry \":\"12 months\"},\n",
        "                    1124561:{\"name\":\"cup cakes\",    \"price\":200, \"quantity available \":100,   \"quantity of product\":300,         \"expiry \":\"1 months\"},\n",
        "                    1124562:{\"name\":\"juices pack\"  ,\"price\":50,  \"quantity available \":100,   \"quantity of product\":500,       \"expiry \":\"12 months\"},\n",
        "                    1124563:{\"name\":\"coffee pack\"  ,\"price\":50,  \"quantity available \":100,   \"quantity of product\":100,       \"expiry \":\"12 months\"},\n",
        "                    1124564:{\"name\":\"shakes pack\"  ,\"price\":50,  \"quantity available \":100,   \"quantity of product\":500,       \"expiry \":\"12 months\"},\n",
        "                    1124565:{\"name\":\"bread pack\",   \"price\":30,  \"quantity available \":100,   \"quantity of product\":100,         \"expiry \":\"3 days\"},\n",
        "                    1124566:{\"name\":\"paneer pack\",  \"price\":120, \"quantity available \":100   ,\"quantity of product\":100,         \"expiry \":\"1 months\"},\n",
        "                    1124567:{\"name\":\"milk pack\",    \"price\":30,  \"quantity available \":100   ,\"quantity of product\":500,        \"expiry \":\"10 days\"},\n",
        "                    1124568:{\"name\":\"cream pack\",   \"price\":100 ,\"quantity available \":100,   \"quantity of product\":250,         \"expiry \":\"12 months\"},\n",
        "                    1124569:{\"name\":\"ice-cream pack\", \"price\":100, \"quantity available \":100,   \"quantity of product\":250,        \"expiry \":\"1 months\"},\n",
        "                    1124570:{\"name\":\"chips pack\",   \"price\":30,  \"quantity available \":100,   \"quantity of product\":200,         \"expiry \":\"24 months\"}\n",
        " }"
      ],
      "execution_count": 1,
      "outputs": []
    },
    {
      "cell_type": "code",
      "metadata": {
        "colab": {
          "base_uri": "https://localhost:8080/"
        },
        "id": "ABugvaOV4Jai",
        "outputId": "33df379a-4b69-4edd-aacb-297a30046290"
      },
      "source": [
        "sales={}\n",
        "# from here you can change the number of time \n",
        "n=3\n",
        "for j in range(n):\n",
        "   customer_name=input(\"enter the custmer:\")\n",
        "   id=int(input(\"enter the id :\"))\n",
        "   if id in product_record:\n",
        "        quantity=int(input(\"number of quantity :\"))\n",
        "        details=[\"Name of product \" ,\"Price of product \",\"Quantity of product\",\"Total amount \" ]\n",
        "        amount_details=[product_record[id][\"name\"],product_record[id][\"price\"],product_record[id][\"quantity of product\"],product_record[id][\"price\"]*quantity]\n",
        "        for k in range(2):\n",
        "          buy={}\n",
        "          for i in range(4):\n",
        "              x=details[i]\n",
        "              y=amount_details[i]\n",
        "              buy[x]=y\n",
        "\n",
        "        print(\"******Details of product***********\")\n",
        "        print(\"Name of product is    : \",   product_record[id][\"name\"])\n",
        "        print(\"Price of products   :\",  product_record[id][\"price\"])\n",
        "        print(\"Quantity of product in g/ml is:\",product_record[id][\"quantity of product\"]*quantity)\n",
        "        print(\"Total amount is       : \",       product_record[id][\"price\"]*quantity,\"rupees\")\n",
        "        product_record[id][\"quantity available \"]= product_record[id][\"quantity available \"]-quantity\n",
        "        sales[customer_name]=buy\n",
        "\n",
        "\n",
        "   else:\n",
        "       print(\"wrong id\")\n",
        "   \n",
        "\n",
        "\n"
      ],
      "execution_count": 2,
      "outputs": [
        {
          "output_type": "stream",
          "name": "stdout",
          "text": [
            "enter the custmer:guii\n",
            "enter the id :1124560\n",
            "number of quantity :7\n",
            "******Details of product***********\n",
            "Name of product is    :  balloon pack\n",
            "Price of products   : 50\n",
            "Quantity of product in g/ml is: 175\n",
            "Total amount is       :  350 rupees\n",
            "enter the custmer:hbik\n",
            "enter the id :1124560\n",
            "number of quantity :7\n",
            "******Details of product***********\n",
            "Name of product is    :  balloon pack\n",
            "Price of products   : 50\n",
            "Quantity of product in g/ml is: 175\n",
            "Total amount is       :  350 rupees\n",
            "enter the custmer:tui\n",
            "enter the id : 1124570\n",
            "number of quantity :8\n",
            "******Details of product***********\n",
            "Name of product is    :  chips pack\n",
            "Price of products   : 30\n",
            "Quantity of product in g/ml is: 1600\n",
            "Total amount is       :  240 rupees\n"
          ]
        }
      ]
    },
    {
      "cell_type": "code",
      "metadata": {
        "id": "wqUlqfXIeSFA"
      },
      "source": [
        "import json\n"
      ],
      "execution_count": 3,
      "outputs": []
    },
    {
      "cell_type": "code",
      "metadata": {
        "id": "xJ--99aLQAdr"
      },
      "source": [
        "js=json.dumps(product_record)"
      ],
      "execution_count": 4,
      "outputs": []
    },
    {
      "cell_type": "code",
      "metadata": {
        "id": "Eaj9GiFeQWjV",
        "colab": {
          "base_uri": "https://localhost:8080/",
          "height": 120
        },
        "outputId": "a395a41b-cdef-46e4-e343-1d71f22cebcc"
      },
      "source": [
        "js\n"
      ],
      "execution_count": 5,
      "outputs": [
        {
          "output_type": "execute_result",
          "data": {
            "application/vnd.google.colaboratory.intrinsic+json": {
              "type": "string"
            },
            "text/plain": [
              "'{\"1124551\": {\"name\": \"maggi\", \"price\": 30, \"quantity available \": 100, \"quantity of product\": 100, \"expiry \": \"12 months\"}, \"1124552\": {\"name\": \"chocolate\", \"price\": 40, \"quantity available \": 100, \"quantity of product\": 20, \"expiry \": \"15 months\"}, \"1124553\": {\"name\": \"cookies\", \"price\": 30, \"quantity available \": 100, \"quantity of product\": 100, \"expiry \": \"12 months\"}, \"1124554\": {\"name\": \"pack of pasta\", \"price\": 50, \"quantity available \": 100, \"quantity of product\": 100, \"expiry \": \"24 months\"}, \"1124555\": {\"name\": \"rice pack\", \"price\": 300, \"quantity available \": 100, \"quantity of product\": 5000, \"expiry \": \"48 months\"}, \"1124556\": {\"name\": \"almonds pack \", \"price\": 500, \"quantity available \": 100, \"quantity of product\": 300, \"expiry \": \"12 months\"}, \"1124557\": {\"name\": \"dates pack\", \"price\": 500, \"quantity available \": 100, \"quantity of product\": 500, \"expiry \": \"24 months\"}, \"1124558\": {\"name\": \"donuts pack\", \"price\": 150, \"quantity available \": 100, \"quantity of product\": 200, \"expiry \": \" 3 days\"}, \"1124559\": {\"name\": \"cakes pack\", \"price\": 300, \"quantity available \": 100, \"quantity of product\": 1000, \"expiry \": \"1 days\"}, \"1124560\": {\"name\": \"balloon pack\", \"price\": 50, \"quantity available \": 86, \"quantity of product\": 25, \"expiry \": \"12 months\"}, \"1124561\": {\"name\": \"cup cakes\", \"price\": 200, \"quantity available \": 100, \"quantity of product\": 300, \"expiry \": \"1 months\"}, \"1124562\": {\"name\": \"juices pack\", \"price\": 50, \"quantity available \": 100, \"quantity of product\": 500, \"expiry \": \"12 months\"}, \"1124563\": {\"name\": \"coffee pack\", \"price\": 50, \"quantity available \": 100, \"quantity of product\": 100, \"expiry \": \"12 months\"}, \"1124564\": {\"name\": \"shakes pack\", \"price\": 50, \"quantity available \": 100, \"quantity of product\": 500, \"expiry \": \"12 months\"}, \"1124565\": {\"name\": \"bread pack\", \"price\": 30, \"quantity available \": 100, \"quantity of product\": 100, \"expiry \": \"3 days\"}, \"1124566\": {\"name\": \"paneer pack\", \"price\": 120, \"quantity available \": 100, \"quantity of product\": 100, \"expiry \": \"1 months\"}, \"1124567\": {\"name\": \"milk pack\", \"price\": 30, \"quantity available \": 100, \"quantity of product\": 500, \"expiry \": \"10 days\"}, \"1124568\": {\"name\": \"cream pack\", \"price\": 100, \"quantity available \": 100, \"quantity of product\": 250, \"expiry \": \"12 months\"}, \"1124569\": {\"name\": \"ice-cream pack\", \"price\": 100, \"quantity available \": 100, \"quantity of product\": 250, \"expiry \": \"1 months\"}, \"1124570\": {\"name\": \"chips pack\", \"price\": 30, \"quantity available \": 92, \"quantity of product\": 200, \"expiry \": \"24 months\"}}'"
            ]
          },
          "metadata": {},
          "execution_count": 5
        }
      ]
    },
    {
      "cell_type": "code",
      "metadata": {
        "id": "7jhMZF5iQyrE"
      },
      "source": [
        "f=open(\"product_record.json\",\"w\")\n",
        "f.write(js)\n",
        "f.close()"
      ],
      "execution_count": 6,
      "outputs": []
    },
    {
      "cell_type": "code",
      "metadata": {
        "id": "ICE3UgUfR7JI"
      },
      "source": [
        "f1=open(\"product_record.json\",\"r\")\n",
        "record=f1.read()\n",
        "f1.close()"
      ],
      "execution_count": 7,
      "outputs": []
    },
    {
      "cell_type": "code",
      "metadata": {
        "id": "3uIRdIn3vu8l",
        "colab": {
          "base_uri": "https://localhost:8080/",
          "height": 120
        },
        "outputId": "4a6bae9b-424d-4288-87aa-5df9630074a7"
      },
      "source": [
        "record"
      ],
      "execution_count": 8,
      "outputs": [
        {
          "output_type": "execute_result",
          "data": {
            "application/vnd.google.colaboratory.intrinsic+json": {
              "type": "string"
            },
            "text/plain": [
              "'{\"1124551\": {\"name\": \"maggi\", \"price\": 30, \"quantity available \": 100, \"quantity of product\": 100, \"expiry \": \"12 months\"}, \"1124552\": {\"name\": \"chocolate\", \"price\": 40, \"quantity available \": 100, \"quantity of product\": 20, \"expiry \": \"15 months\"}, \"1124553\": {\"name\": \"cookies\", \"price\": 30, \"quantity available \": 100, \"quantity of product\": 100, \"expiry \": \"12 months\"}, \"1124554\": {\"name\": \"pack of pasta\", \"price\": 50, \"quantity available \": 100, \"quantity of product\": 100, \"expiry \": \"24 months\"}, \"1124555\": {\"name\": \"rice pack\", \"price\": 300, \"quantity available \": 100, \"quantity of product\": 5000, \"expiry \": \"48 months\"}, \"1124556\": {\"name\": \"almonds pack \", \"price\": 500, \"quantity available \": 100, \"quantity of product\": 300, \"expiry \": \"12 months\"}, \"1124557\": {\"name\": \"dates pack\", \"price\": 500, \"quantity available \": 100, \"quantity of product\": 500, \"expiry \": \"24 months\"}, \"1124558\": {\"name\": \"donuts pack\", \"price\": 150, \"quantity available \": 100, \"quantity of product\": 200, \"expiry \": \" 3 days\"}, \"1124559\": {\"name\": \"cakes pack\", \"price\": 300, \"quantity available \": 100, \"quantity of product\": 1000, \"expiry \": \"1 days\"}, \"1124560\": {\"name\": \"balloon pack\", \"price\": 50, \"quantity available \": 86, \"quantity of product\": 25, \"expiry \": \"12 months\"}, \"1124561\": {\"name\": \"cup cakes\", \"price\": 200, \"quantity available \": 100, \"quantity of product\": 300, \"expiry \": \"1 months\"}, \"1124562\": {\"name\": \"juices pack\", \"price\": 50, \"quantity available \": 100, \"quantity of product\": 500, \"expiry \": \"12 months\"}, \"1124563\": {\"name\": \"coffee pack\", \"price\": 50, \"quantity available \": 100, \"quantity of product\": 100, \"expiry \": \"12 months\"}, \"1124564\": {\"name\": \"shakes pack\", \"price\": 50, \"quantity available \": 100, \"quantity of product\": 500, \"expiry \": \"12 months\"}, \"1124565\": {\"name\": \"bread pack\", \"price\": 30, \"quantity available \": 100, \"quantity of product\": 100, \"expiry \": \"3 days\"}, \"1124566\": {\"name\": \"paneer pack\", \"price\": 120, \"quantity available \": 100, \"quantity of product\": 100, \"expiry \": \"1 months\"}, \"1124567\": {\"name\": \"milk pack\", \"price\": 30, \"quantity available \": 100, \"quantity of product\": 500, \"expiry \": \"10 days\"}, \"1124568\": {\"name\": \"cream pack\", \"price\": 100, \"quantity available \": 100, \"quantity of product\": 250, \"expiry \": \"12 months\"}, \"1124569\": {\"name\": \"ice-cream pack\", \"price\": 100, \"quantity available \": 100, \"quantity of product\": 250, \"expiry \": \"1 months\"}, \"1124570\": {\"name\": \"chips pack\", \"price\": 30, \"quantity available \": 92, \"quantity of product\": 200, \"expiry \": \"24 months\"}}'"
            ]
          },
          "metadata": {},
          "execution_count": 8
        }
      ]
    },
    {
      "cell_type": "code",
      "metadata": {
        "id": "a4m01hTJvzGy"
      },
      "source": [
        "js1=json.dumps(sales)"
      ],
      "execution_count": 9,
      "outputs": []
    },
    {
      "cell_type": "code",
      "metadata": {
        "id": "sLI0sD1wwU4r"
      },
      "source": [
        "f=open(\"sales.json\",\"w\")\n",
        "f.write(js1)\n",
        "f.close()"
      ],
      "execution_count": 10,
      "outputs": []
    },
    {
      "cell_type": "code",
      "metadata": {
        "id": "ZuwGtXof-LAH"
      },
      "source": [
        "f1=open(\"sales.json\",\"r\")\n",
        "sales_record=f1.read()\n",
        "f1.close()"
      ],
      "execution_count": 11,
      "outputs": []
    }
  ]
}